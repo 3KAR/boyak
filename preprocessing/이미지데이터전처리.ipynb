{
 "cells": [
  {
   "cell_type": "markdown",
   "metadata": {},
   "source": [
    "## 이미지 패딩 처리"
   ]
  },
  {
   "cell_type": "code",
   "execution_count": 1,
   "metadata": {},
   "outputs": [],
   "source": [
    "import cv2 as cv\n",
    "from PIL import Image, ImageEnhance, ImageChops\n",
    "import os\n",
    "import random\n",
    "import numpy as np\n",
    "import tensorflow as tf"
   ]
  },
  {
   "cell_type": "code",
   "execution_count": 2,
   "metadata": {},
   "outputs": [],
   "source": [
    "\n",
    "file_paths = []\n",
    "for (path, dir, files) in os.walk(\"./img2\"):\n",
    "    for filename in files:\n",
    "        ext = os.path.splitext(filename)[-1]\n",
    "        if ext == '.jpg':\n",
    "            file_paths.append(\"%s/%s\" % (path, filename))\n",
    "            "
   ]
  },
  {
   "cell_type": "code",
   "execution_count": 37,
   "metadata": {},
   "outputs": [],
   "source": [
    "new_path = './img_pre/'\n",
    "for path in file_paths:\n",
    "    im = Image.open(path)\n",
    "    name = path.split('/')[3]\n",
    "    path_name = path.split('/')[2]\n",
    "    drug_name = path.split('/')[3].split('-')[0]\n",
    "    size = im.size\n",
    "    if size[0] > size[1]:\n",
    "        new_size = [size[0],size[0]]\n",
    "        re_im = Image.new(im.mode, new_size)\n",
    "        location = ((new_size[0] - size[0])//2,(new_size[1]-size[1])//2)\n",
    "        re_im.paste(im, (location[0],location[1]))\n",
    "#         resize_im = re_im.resize([80,80])\n",
    "        if path_name not in os.listdir(new_path):\n",
    "            os.mkdir(new_path+path_name)\n",
    "        os.mkdir(new_path+path_name+'/'+drug_name)\n",
    "        re_im.save(new_path+path_name+'/'+drug_name+'/'+name)\n",
    "    else:\n",
    "        new_size = [size[1],size[1]]\n",
    "        re_im = Image.new(im.mode, new_size)\n",
    "        location = ((new_size[0] - size[0])//2,(new_size[1]-size[1])//2)\n",
    "        re_im.paste(im, (location[0],location[1]))\n",
    "#         resize_im = re_im.resize([80,80])\n",
    "        if path_name not in os.listdir(new_path):\n",
    "            os.mkdir(new_path+path_name)\n",
    "        os.mkdir(new_path+path_name+'/'+drug_name)\n",
    "        re_im.save(new_path+path_name+'/'+drug_name+'/'+name)\n",
    "    \n",
    "    \n",
    "    "
   ]
  },
  {
   "cell_type": "markdown",
   "metadata": {},
   "source": [
    "## 이미지 갯수 증폭(밝기,반전,회전)"
   ]
  },
  {
   "cell_type": "code",
   "execution_count": null,
   "metadata": {},
   "outputs": [],
   "source": [
    "import cv2 as cv\n",
    "from PIL import Image, ImageEnhance, ImageChops\n",
    "import os\n",
    "import random\n",
    "import numpy as np\n",
    "import tensorflow as tf"
   ]
  },
  {
   "cell_type": "code",
   "execution_count": 2,
   "metadata": {},
   "outputs": [],
   "source": [
    "file_paths = []\n",
    "for (path, dir, files) in os.walk(\"./feedback/brightness2/\"):\n",
    "    for filename in files:\n",
    "        ext = os.path.splitext(filename)[-1]\n",
    "        if ext == '.jpg':\n",
    "            file_paths.append(\"%s/%s\" % (path, filename))\n",
    "            "
   ]
  },
  {
   "cell_type": "code",
   "execution_count": 4,
   "metadata": {},
   "outputs": [],
   "source": [
    "brightness_range = [0.7,0.9,1.1,1.3]\n",
    "for path in file_paths:\n",
    "    image = Image.open(path)\n",
    "    enhancer = ImageEnhance.Brightness(image)\n",
    "    for i,bright in enumerate(brightness_range):\n",
    "        enhancer.enhance(bright).save('.{}-{}.jpg'.format(path.split('.')[1],i))\n",
    "    image.transpose(Image.FLIP_LEFT_RIGHT).save('.{}-{}.jpg'.format(path.split('.')[1],4))\n",
    "    image.transpose(Image.FLIP_TOP_BOTTOM).save('.{}-{}.jpg'.format(path.split('.')[1],5))\n",
    "    for j in range(1,360):\n",
    "        image.rotate(j).save('.{}-{}.jpg'.format(path.split('.')[1],5+j))"
   ]
  }
 ],
 "metadata": {
  "kernelspec": {
   "display_name": "Python 3",
   "language": "python",
   "name": "python3"
  },
  "language_info": {
   "codemirror_mode": {
    "name": "ipython",
    "version": 3
   },
   "file_extension": ".py",
   "mimetype": "text/x-python",
   "name": "python",
   "nbconvert_exporter": "python",
   "pygments_lexer": "ipython3",
   "version": "3.7.7"
  }
 },
 "nbformat": 4,
 "nbformat_minor": 4
}
